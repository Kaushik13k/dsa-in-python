{
 "cells": [
  {
   "cell_type": "code",
   "execution_count": 91,
   "id": "5721e1fe-6a5d-4e2c-a956-bb05d183c70b",
   "metadata": {},
   "outputs": [],
   "source": [
    "class Node:\n",
    "    def __init__(self, value):\n",
    "        self.value = value\n",
    "        self.next = None\n",
    "\n",
    "class LinkedList:\n",
    "    def __init__(self):\n",
    "        self.head = None\n",
    "        self.tail = None\n",
    "\n",
    "class Queue:\n",
    "    def __init__(self):\n",
    "        self.linkedlist = LinkedList()\n",
    "\n",
    "    def print_items(self):\n",
    "        if self.linkedlist.head is None:\n",
    "            return \"Queue is empty\"\n",
    "\n",
    "        current = self.linkedlist.head\n",
    "        items = []\n",
    "        while current is not None:\n",
    "            items.append(current.value)\n",
    "            current = current.next\n",
    "\n",
    "        return \"Queue items: \" + \" -> \".join(map(str, items))\n",
    "\n",
    "    def enqueue(self, value):\n",
    "        new_node = Node(value)\n",
    "        if self.linkedlist.head == None:\n",
    "            self.linkedlist.head = new_node\n",
    "            self.linkedlist.tail = new_node\n",
    "        else:\n",
    "            self.linkedlist.tail.next = new_node\n",
    "            self.linkedlist.tail = new_node\n",
    "\n",
    "    def dequeue(self):\n",
    "        if self.linkedlist.head == None:\n",
    "            return \"Queue is empty\"\n",
    "        else:\n",
    "            temp = self.linkedlist.head\n",
    "            if self.linkedlist.head == self.linkedlist.tail:\n",
    "                self.linkedlist.head = None\n",
    "                self.linkedlist.tail = None\n",
    "            else:\n",
    "                self.linkedlist.head = self.linkedlist.head.next\n",
    "                temp.next = None\n",
    "            return f\"Eliminated {temp.value}\"\n",
    "\n",
    "    def is_empty(self):\n",
    "        if self.linkedlist.head == None:\n",
    "            return True\n",
    "        return False\n",
    "\n",
    "    def peek(self):\n",
    "        if self.linkedlist.head == None:\n",
    "            return \"Queue is empty\"\n",
    "        return self.linkedlist.head.value\n",
    "\n",
    "    def delete(self):\n",
    "        if self.linkedlist.head == None:\n",
    "            return \"Queue is empty\"\n",
    "        self.linkedlist.head = None\n",
    "        self.linkedlist.tail = None\n",
    "        return \"Queue Deleted\""
   ]
  },
  {
   "cell_type": "code",
   "execution_count": 92,
   "id": "d24a0969-e45c-4da7-9c85-f5470da089d2",
   "metadata": {},
   "outputs": [],
   "source": [
    "queue_instance = Queue()"
   ]
  },
  {
   "cell_type": "code",
   "execution_count": 93,
   "id": "3a573232-2e29-4d35-b963-a78c56ef70fe",
   "metadata": {},
   "outputs": [
    {
     "data": {
      "text/plain": [
       "True"
      ]
     },
     "execution_count": 93,
     "metadata": {},
     "output_type": "execute_result"
    }
   ],
   "source": [
    "queue_instance.is_empty()"
   ]
  },
  {
   "cell_type": "code",
   "execution_count": 94,
   "id": "d05553c3-05f3-40a6-b81a-eae8043a5ca0",
   "metadata": {},
   "outputs": [],
   "source": [
    "queue_instance.enqueue(1)\n",
    "queue_instance.enqueue(2)\n",
    "queue_instance.enqueue(3)"
   ]
  },
  {
   "cell_type": "code",
   "execution_count": 95,
   "id": "c007b89a-986a-4e40-95a4-76f9fa77282a",
   "metadata": {},
   "outputs": [],
   "source": [
    "# queue_instance.delete()"
   ]
  },
  {
   "cell_type": "code",
   "execution_count": 96,
   "id": "344d55a0-1e23-4799-9bc8-f44663e2580c",
   "metadata": {},
   "outputs": [
    {
     "name": "stdout",
     "output_type": "stream",
     "text": [
      "1\n",
      "2\n",
      "3\n"
     ]
    }
   ],
   "source": [
    "queue_instance.print_items()"
   ]
  },
  {
   "cell_type": "code",
   "execution_count": 97,
   "id": "e6696d41-1122-479d-b82a-a78bdaf0f2dc",
   "metadata": {},
   "outputs": [
    {
     "data": {
      "text/plain": [
       "'Eliminated 1'"
      ]
     },
     "execution_count": 97,
     "metadata": {},
     "output_type": "execute_result"
    }
   ],
   "source": [
    "queue_instance.dequeue()"
   ]
  },
  {
   "cell_type": "code",
   "execution_count": 98,
   "id": "75f2af57-9fc7-4651-a95f-506a72ea3213",
   "metadata": {},
   "outputs": [
    {
     "name": "stdout",
     "output_type": "stream",
     "text": [
      "2\n",
      "3\n"
     ]
    }
   ],
   "source": [
    "queue_instance.print_items()"
   ]
  },
  {
   "cell_type": "code",
   "execution_count": 99,
   "id": "20f9e0f6-1d43-4da6-9bdf-7004b912eaac",
   "metadata": {},
   "outputs": [
    {
     "data": {
      "text/plain": [
       "2"
      ]
     },
     "execution_count": 99,
     "metadata": {},
     "output_type": "execute_result"
    }
   ],
   "source": [
    "queue_instance.peek()"
   ]
  },
  {
   "cell_type": "code",
   "execution_count": null,
   "id": "3f9f6f5f-6383-4367-8dd0-414d5927f95d",
   "metadata": {},
   "outputs": [],
   "source": []
  }
 ],
 "metadata": {
  "kernelspec": {
   "display_name": "Python 3 (ipykernel)",
   "language": "python",
   "name": "python3"
  },
  "language_info": {
   "codemirror_mode": {
    "name": "ipython",
    "version": 3
   },
   "file_extension": ".py",
   "mimetype": "text/x-python",
   "name": "python",
   "nbconvert_exporter": "python",
   "pygments_lexer": "ipython3",
   "version": "3.11.1"
  }
 },
 "nbformat": 4,
 "nbformat_minor": 5
}
