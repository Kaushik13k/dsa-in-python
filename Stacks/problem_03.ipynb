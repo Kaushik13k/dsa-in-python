{
 "cells": [
  {
   "cell_type": "markdown",
   "id": "c56ea7a7-f30c-4b68-a250-28782a634391",
   "metadata": {},
   "source": [
    "### Next Smaller Element"
   ]
  },
  {
   "cell_type": "raw",
   "id": "cac3d20d-1494-4143-9dd2-03db9b2d36e0",
   "metadata": {},
   "source": [
    "Given an array, print the Next Smaller Element (NSE) for every element. The NSE for an element x is the first smaller element on the right side of x in the array. Elements for which no smaller element exist (on the right side), consider NSE as -1. "
   ]
  },
  {
   "cell_type": "raw",
   "id": "7ff8e898-9ab4-4cee-afaf-f4f982f6d310",
   "metadata": {},
   "source": [
    "Examples: \n",
    "\n",
    "Input: [4, 8, 5, 2, 25]\n",
    "Output: [2, 5, 2, -1, -1]\n",
    "Explanation:\n",
    "    The first element smaller than 4 having index > 0 is 2.\n",
    "    The first element smaller than 8 having index > 1 is 5.\n",
    "    The first element smaller than 5 having index > 2 is 2.\n",
    "    There are no elements smaller than 4 having index > 3.\n",
    "    There are no elements smaller than 4 having index > 4.\n",
    "\n",
    "Input: [13, 7, 6, 12]\n",
    "Output: [7, 6, -1, -1]\n",
    "Explanation:\n",
    "    The first element smaller than 13 having index > 0 is 7.\n",
    "    The first element smaller than 7 having index > 1 is 6.\n",
    "    There are no elements smaller than 6 having index > 2.\n",
    "    There are no elements smaller than 12 having index > 3."
   ]
  },
  {
   "cell_type": "code",
   "execution_count": null,
   "id": "78e86631-d0e9-47da-b221-81fe7a841084",
   "metadata": {},
   "outputs": [],
   "source": []
  },
  {
   "cell_type": "code",
   "execution_count": 10,
   "id": "7e12e0a3-b7fe-4783-a643-b09e7dd3ad03",
   "metadata": {},
   "outputs": [
    {
     "name": "stdout",
     "output_type": "stream",
     "text": [
      "[2, 5, 2, -1, -1, -1]\n"
     ]
    }
   ],
   "source": [
    "arr = [4, 8, 5, 2, 2, 5]\n",
    "output = [-1] * len(arr)\n",
    "stack = []\n",
    "\n",
    "for i in range(len(arr)-1, -1, -1):\n",
    "    while stack and arr[i] <= stack[-1]:\n",
    "        stack.pop()\n",
    "\n",
    "    if stack:\n",
    "        output[i] = stack[-1]\n",
    "\n",
    "    stack.append(arr[i])\n",
    "print(output)"
   ]
  },
  {
   "cell_type": "code",
   "execution_count": null,
   "id": "17b6c61a-1914-4fdb-9b9d-7391ee8ca0fd",
   "metadata": {},
   "outputs": [],
   "source": []
  }
 ],
 "metadata": {
  "kernelspec": {
   "display_name": "Python 3 (ipykernel)",
   "language": "python",
   "name": "python3"
  },
  "language_info": {
   "codemirror_mode": {
    "name": "ipython",
    "version": 3
   },
   "file_extension": ".py",
   "mimetype": "text/x-python",
   "name": "python",
   "nbconvert_exporter": "python",
   "pygments_lexer": "ipython3",
   "version": "3.11.1"
  }
 },
 "nbformat": 4,
 "nbformat_minor": 5
}
