{
 "cells": [
  {
   "cell_type": "markdown",
   "id": "5874550e-fd96-4673-b471-a02ede595161",
   "metadata": {},
   "source": [
    "### The Stock Span Problem"
   ]
  },
  {
   "cell_type": "raw",
   "id": "c31d791c-023b-4188-9c32-136193edf6cb",
   "metadata": {},
   "source": [
    "The stock span problem is a financial problem where we have a series of N daily price quotes for a stock and we need to calculate the span of the stock’s price for all N days. The span Si of the stock’s price on a given day i is defined as the maximum number of consecutive days just before the given day, for which the price of the stock on the current day is less than its price on the given day. "
   ]
  },
  {
   "cell_type": "raw",
   "id": "d0adcf80-f6a8-440c-97b0-8f3fd4fbdba9",
   "metadata": {},
   "source": [
    "Examples:\n",
    "\n",
    "Input: N = 7, price[] = [100 80 60 70 60 75 85]\n",
    "Output: 1 1 1 2 1 4 6\n",
    "Explanation: Traversing the given input span for 100 will be 1, 80 is smaller than 100 so the span is 1, 60 is smaller than 80 so the span is 1, 70 is greater than 60 so the span is 2 and so on. Hence the output will be 1 1 1 2 1 4 6.\n",
    "\n",
    "Input: N = 6, price[] = [10 4 5 90 120 80]\n",
    "Output:1 1 2 4 5 1\n",
    "Explanation: Traversing the given input span for 10 will be 1, 4 is smaller than 10 so the span will be 1, 5 is greater than 4 so the span will be 2 and so on. Hence, the output will be 1 1 2 4 5 1."
   ]
  },
  {
   "cell_type": "code",
   "execution_count": null,
   "id": "b85f6f53-eb7e-40e9-9dba-216b0bf47478",
   "metadata": {},
   "outputs": [],
   "source": []
  },
  {
   "cell_type": "code",
   "execution_count": 58,
   "id": "b572bca4-373c-4c6c-b5a3-4a56cafdfdb7",
   "metadata": {},
   "outputs": [],
   "source": [
    "price = [100, 80, 60, 70, 60, 75, 85]\n",
    "stack = []\n",
    "output = [1] * len(price)\n",
    "\n",
    "for i in range(len(price)):\n",
    "    while stack and price[i] >= price[stack[-1]]:\n",
    "        stack.pop()\n",
    "\n",
    "    if stack:\n",
    "        output[i] = i - stack[-1]\n",
    "\n",
    "    stack.append(i)"
   ]
  },
  {
   "cell_type": "code",
   "execution_count": 59,
   "id": "8aca44c6-3061-4c10-a35a-c43efdbd8338",
   "metadata": {},
   "outputs": [
    {
     "data": {
      "text/plain": [
       "[1, 1, 1, 2, 1, 4, 6]"
      ]
     },
     "execution_count": 59,
     "metadata": {},
     "output_type": "execute_result"
    }
   ],
   "source": [
    "output"
   ]
  },
  {
   "cell_type": "code",
   "execution_count": null,
   "id": "55069eaf-5877-4805-b837-4efd430c20a1",
   "metadata": {},
   "outputs": [],
   "source": []
  }
 ],
 "metadata": {
  "kernelspec": {
   "display_name": "Python 3 (ipykernel)",
   "language": "python",
   "name": "python3"
  },
  "language_info": {
   "codemirror_mode": {
    "name": "ipython",
    "version": 3
   },
   "file_extension": ".py",
   "mimetype": "text/x-python",
   "name": "python",
   "nbconvert_exporter": "python",
   "pygments_lexer": "ipython3",
   "version": "3.11.1"
  }
 },
 "nbformat": 4,
 "nbformat_minor": 5
}
