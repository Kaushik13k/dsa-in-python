{
 "cells": [
  {
   "cell_type": "code",
   "execution_count": 76,
   "id": "3fc3e338-905f-4fb2-91cd-89a9dc44b07a",
   "metadata": {},
   "outputs": [],
   "source": [
    "# Stacks using list\n",
    "class Stack:\n",
    "    def __init__(self):\n",
    "        self.list = []\n",
    "\n",
    "    def is_empty(self):\n",
    "        if self.list:\n",
    "            return False\n",
    "        return True\n",
    "\n",
    "    def peek(self):\n",
    "        if self.is_empty:\n",
    "            return self.list[len(self.list)-1]\n",
    "        return \"The stack is empty\"\n",
    "\n",
    "    def push(self, value):\n",
    "        self.list.append(value)\n",
    "        return f\"The element {value} is inserted\"\n",
    "\n",
    "    def pop(self):\n",
    "        if self.is_empty:\n",
    "            return self.list.pop()\n",
    "        return \"The stack is empty\"\n",
    "        \n",
    "    def delete(self):\n",
    "        self.list = None\n",
    "            "
   ]
  },
  {
   "cell_type": "code",
   "execution_count": 64,
   "id": "69e47998-9872-4071-b05f-392804b2ddf5",
   "metadata": {},
   "outputs": [],
   "source": [
    "stack_obj = Stack()"
   ]
  },
  {
   "cell_type": "code",
   "execution_count": 65,
   "id": "f5058d1e-5e44-48d8-9cf3-1478e3faae54",
   "metadata": {},
   "outputs": [
    {
     "data": {
      "text/plain": [
       "True"
      ]
     },
     "execution_count": 65,
     "metadata": {},
     "output_type": "execute_result"
    }
   ],
   "source": [
    "stack_obj.is_empty()"
   ]
  },
  {
   "cell_type": "code",
   "execution_count": 66,
   "id": "fa5e63b4-6a11-4be5-976f-9c28dffcb194",
   "metadata": {},
   "outputs": [
    {
     "data": {
      "text/plain": [
       "'The element 5 is inserted'"
      ]
     },
     "execution_count": 66,
     "metadata": {},
     "output_type": "execute_result"
    }
   ],
   "source": [
    "stack_obj.push(5)"
   ]
  },
  {
   "cell_type": "code",
   "execution_count": 67,
   "id": "0551b8c5-687d-4cbf-9f28-afed0a43a435",
   "metadata": {},
   "outputs": [
    {
     "data": {
      "text/plain": [
       "False"
      ]
     },
     "execution_count": 67,
     "metadata": {},
     "output_type": "execute_result"
    }
   ],
   "source": [
    "stack_obj.is_empty()"
   ]
  },
  {
   "cell_type": "code",
   "execution_count": 68,
   "id": "e8fa13a7-daf9-4848-9b72-4a683f52720b",
   "metadata": {},
   "outputs": [
    {
     "data": {
      "text/plain": [
       "False"
      ]
     },
     "execution_count": 68,
     "metadata": {},
     "output_type": "execute_result"
    }
   ],
   "source": [
    "stack_obj.is_empty()"
   ]
  },
  {
   "cell_type": "code",
   "execution_count": 69,
   "id": "c9a31e9b-7307-423a-ae5d-38fe067ead32",
   "metadata": {},
   "outputs": [
    {
     "data": {
      "text/plain": [
       "5"
      ]
     },
     "execution_count": 69,
     "metadata": {},
     "output_type": "execute_result"
    }
   ],
   "source": [
    "stack_obj.peek()"
   ]
  },
  {
   "cell_type": "code",
   "execution_count": 71,
   "id": "fe205fe6-7f01-491c-a36a-276450eaa660",
   "metadata": {},
   "outputs": [
    {
     "data": {
      "text/plain": [
       "5"
      ]
     },
     "execution_count": 71,
     "metadata": {},
     "output_type": "execute_result"
    }
   ],
   "source": [
    "stack_obj.pop()"
   ]
  },
  {
   "cell_type": "code",
   "execution_count": 72,
   "id": "367535d2-37c9-41ed-9cee-5b5b37a7d048",
   "metadata": {},
   "outputs": [
    {
     "data": {
      "text/plain": [
       "True"
      ]
     },
     "execution_count": 72,
     "metadata": {},
     "output_type": "execute_result"
    }
   ],
   "source": [
    "stack_obj.is_empty()"
   ]
  }
 ],
 "metadata": {
  "kernelspec": {
   "display_name": "Python 3 (ipykernel)",
   "language": "python",
   "name": "python3"
  },
  "language_info": {
   "codemirror_mode": {
    "name": "ipython",
    "version": 3
   },
   "file_extension": ".py",
   "mimetype": "text/x-python",
   "name": "python",
   "nbconvert_exporter": "python",
   "pygments_lexer": "ipython3",
   "version": "3.11.1"
  }
 },
 "nbformat": 4,
 "nbformat_minor": 5
}
