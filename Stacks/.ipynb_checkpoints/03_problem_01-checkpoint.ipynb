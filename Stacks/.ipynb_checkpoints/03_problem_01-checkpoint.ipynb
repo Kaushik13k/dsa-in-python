{
 "cells": [
  {
   "cell_type": "markdown",
   "id": "b9e2971a-f795-42e1-997a-7b81b4ac2ab0",
   "metadata": {},
   "source": [
    "### Next Greater Element (NGE) for every element in given Array"
   ]
  },
  {
   "cell_type": "raw",
   "id": "56453d82-54a9-4887-a53a-34a1f651ab99",
   "metadata": {},
   "source": [
    "The Next greater Element for an element x is the first greater element on the right side of x in the array. Elements for which no greater element exist, consider the next greater element as -1. "
   ]
  },
  {
   "cell_type": "raw",
   "id": "d3976f52-26d5-44e7-aa37-808c3104b287",
   "metadata": {},
   "source": [
    "Example: \n",
    "\n",
    "Input: arr[] = [ 4 , 5 , 2 , 25 ]\n",
    "Output:  4      –>   5\n",
    "               5      –>   25\n",
    "               2      –>   25\n",
    "               25     –>   -1\n",
    "\n",
    "Explanation: except 25 every element has an element greater than them present on the right side\n",
    "\n",
    "Input: arr[] = [ 13 , 7, 6 , 12 ]\n",
    "Output:  13      –>    -1\n",
    "                7       –>     12\n",
    "                6       –>     12\n",
    "                12      –>     -1\n",
    "\n",
    "Explanation: 13 and 12 don’t have any element greater than them present on the right side"
   ]
  },
  {
   "cell_type": "code",
   "execution_count": 4,
   "id": "01272b08-679b-42db-92a1-e0ca1f5ea0da",
   "metadata": {},
   "outputs": [
    {
     "name": "stdout",
     "output_type": "stream",
     "text": [
      "[5, 25, 25, -1]\n"
     ]
    }
   ],
   "source": [
    "lst = [4, 5, 2, 25]\n",
    "\n",
    "stack = []\n",
    "output = []\n",
    "\n",
    "def Reverse(lst):\n",
    "    new_lst = lst[::-1]\n",
    "    return new_lst\n",
    "\n",
    "for i in range(len(lst) - 1, -1, -1):\n",
    "    while stack and lst[i] >= lst[stack[-1]]:\n",
    "        stack.pop()\n",
    "\n",
    "    if not stack:\n",
    "        output.append(-1)\n",
    "    else:\n",
    "        output.append(lst[stack[-1]])\n",
    "    \n",
    "    stack.append(i)\n",
    "\n",
    "print(Reverse(output))"
   ]
  },
  {
   "cell_type": "code",
   "execution_count": 5,
   "id": "1d238618-e918-46fa-9d86-155a2a804d31",
   "metadata": {},
   "outputs": [
    {
     "name": "stdout",
     "output_type": "stream",
     "text": [
      "[5, 25, 25, -1]\n"
     ]
    }
   ],
   "source": [
    "lst = [4, 5, 2, 25]\n",
    "output = [-1] * len(lst)\n",
    "\n",
    "stack = []\n",
    "\n",
    "for i in range(len(lst) - 1, -1, -1):\n",
    "    while stack and lst[i] >= lst[stack[-1]]:\n",
    "        stack.pop()\n",
    "\n",
    "    if stack:\n",
    "        output[i] = lst[stack[-1]]\n",
    "    \n",
    "    stack.append(i)\n",
    "\n",
    "print(output)"
   ]
  },
  {
   "cell_type": "code",
   "execution_count": null,
   "id": "6c99aa35-4492-42e2-9241-11c1320d56b0",
   "metadata": {},
   "outputs": [],
   "source": []
  }
 ],
 "metadata": {
  "kernelspec": {
   "display_name": "Python 3 (ipykernel)",
   "language": "python",
   "name": "python3"
  },
  "language_info": {
   "codemirror_mode": {
    "name": "ipython",
    "version": 3
   },
   "file_extension": ".py",
   "mimetype": "text/x-python",
   "name": "python",
   "nbconvert_exporter": "python",
   "pygments_lexer": "ipython3",
   "version": "3.11.1"
  }
 },
 "nbformat": 4,
 "nbformat_minor": 5
}
