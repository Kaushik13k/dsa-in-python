{
 "cells": [
  {
   "cell_type": "code",
   "execution_count": null,
   "id": "4a4b6a58-3984-49cb-a637-23b04bf2b0cb",
   "metadata": {},
   "outputs": [],
   "source": [
    "# Stack using Linked list\n",
    "class Node:\n",
    "    def __init__(self, value):\n",
    "        self.value = value\n",
    "        self.next = None\n",
    "\n",
    "class LinkedList:\n",
    "    def __init__(self):\n",
    "        self.head = None\n",
    "\n",
    "class Stacks:\n",
    "    def __init__(self):\n",
    "        self.linkedlist = LinkedList()\n",
    "\n",
    "    def is_empty(self):\n",
    "        if self.linkedlist.head == None:\n",
    "            return True\n",
    "        else:\n",
    "            return False\n",
    "\n",
    "    def peek(self):\n",
    "        if self.linkedlist.head == None:\n",
    "            return \"The stack is empty\"\n",
    "        return self.linkedlist.head.value\n",
    "\n",
    "    def push(self, value):\n",
    "        new_node = Node(value)\n",
    "        new_node.next = self.linkedlist.head\n",
    "        self.linkedlist.head = new_node\n",
    "\n",
    "    def pop(self, value):\n",
    "        if is_empty:\n",
    "            return \"No value to pop\"\n",
    "        else:\n",
    "            node_value = self.linkedlist.head.value\n",
    "            self.linkedlist.head = self.linkedlist.head.next\n",
    "            return node_value\n",
    "\n",
    "    def delete(self):\n",
    "        self.LinkedList.head = None\n",
    "            "
   ]
  }
 ],
 "metadata": {
  "kernelspec": {
   "display_name": "Python 3 (ipykernel)",
   "language": "python",
   "name": "python3"
  },
  "language_info": {
   "codemirror_mode": {
    "name": "ipython",
    "version": 3
   },
   "file_extension": ".py",
   "mimetype": "text/x-python",
   "name": "python",
   "nbconvert_exporter": "python",
   "pygments_lexer": "ipython3",
   "version": "3.11.1"
  }
 },
 "nbformat": 4,
 "nbformat_minor": 5
}
