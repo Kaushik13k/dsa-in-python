{
 "cells": [
  {
   "cell_type": "markdown",
   "id": "d2490571-ec62-4787-b782-4fd0c1a05d0c",
   "metadata": {},
   "source": [
    "### Previous greater element"
   ]
  },
  {
   "cell_type": "raw",
   "id": "2c228b05-bc8f-424c-8b97-ec6f49c84683",
   "metadata": {},
   "source": [
    "Given an array of distinct elements, find previous greater element for every element. If previous greater element does not exist, print -1."
   ]
  },
  {
   "cell_type": "raw",
   "id": "a2b15e2b-b6fb-4d99-b7f3-dec81c886a07",
   "metadata": {},
   "source": [
    "Examples: \n",
    "\n",
    "Input : arr[] = {10, 4, 2, 20, 40, 12, 30}\n",
    "Output :         -1, 10, 4, -1, -1, 40, 40\n",
    "\n",
    "Input : arr[] = {10, 20, 30, 40}\n",
    "Output :        -1, -1, -1, -1\n",
    "\n",
    "Input : arr[] = {40, 30, 20, 10}\n",
    "Output :        -1, 40, 30, 20"
   ]
  },
  {
   "cell_type": "code",
   "execution_count": 2,
   "id": "79d182d5-2cc5-4763-a0c2-af1423c39896",
   "metadata": {},
   "outputs": [],
   "source": []
  },
  {
   "cell_type": "code",
   "execution_count": 11,
   "id": "34e10c8b-3dd2-4f73-bc8d-3c46545ce8c0",
   "metadata": {},
   "outputs": [
    {
     "name": "stdout",
     "output_type": "stream",
     "text": [
      "[-1, 10, 4, -1, -1, 40, 40]\n"
     ]
    }
   ],
   "source": [
    "arr = [10, 4, 2, 20, 40, 12, 30]\n",
    "output = [-1] * len(arr)\n",
    "stack = []\n",
    "\n",
    "for i in range(len(arr)):\n",
    "    while stack and arr[i] >= stack[-1]:\n",
    "        stack.pop()\n",
    "\n",
    "    if stack:\n",
    "        output[i] = stack[-1]\n",
    "\n",
    "    stack.append(arr[i])    \n",
    "    \n",
    "print(output)"
   ]
  },
  {
   "cell_type": "code",
   "execution_count": null,
   "id": "5d103368-2286-460b-af84-04ea11964184",
   "metadata": {},
   "outputs": [],
   "source": []
  }
 ],
 "metadata": {
  "kernelspec": {
   "display_name": "Python 3 (ipykernel)",
   "language": "python",
   "name": "python3"
  },
  "language_info": {
   "codemirror_mode": {
    "name": "ipython",
    "version": 3
   },
   "file_extension": ".py",
   "mimetype": "text/x-python",
   "name": "python",
   "nbconvert_exporter": "python",
   "pygments_lexer": "ipython3",
   "version": "3.11.1"
  }
 },
 "nbformat": 4,
 "nbformat_minor": 5
}
