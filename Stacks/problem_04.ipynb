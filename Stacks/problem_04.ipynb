{
 "cells": [
  {
   "cell_type": "markdown",
   "id": "1a7186bf-021a-4a45-b9d0-05b6f399111c",
   "metadata": {},
   "source": [
    "### Find the nearest smaller numbers on left side in an array"
   ]
  },
  {
   "cell_type": "raw",
   "id": "d73f3cd6-b15f-4bc3-912d-0d1233c79fee",
   "metadata": {},
   "source": [
    "Given an array of integers, find the nearest smaller number for every element such that the smaller element is on the left side."
   ]
  },
  {
   "cell_type": "raw",
   "id": "630bcf41-3f5f-4845-b574-8a436848e39f",
   "metadata": {},
   "source": [
    "Examples: \n",
    "\n",
    "Input:  arr[] = {1, 6, 4, 10, 2, 5}\n",
    "Output:         {_, 1, 1,  4, 1, 2}\n",
    "    First element ('1') has no element on left side. For 6, \n",
    "    there is only one smaller element on left side '1'. \n",
    "    For 10, there are three smaller elements on left side (1,\n",
    "    6 and 4), nearest among the three elements is 4.\n",
    "\n",
    "Input: arr[] = {1, 3, 0, 2, 5}\n",
    "Output:        {_, 1, _, 0, 2}"
   ]
  },
  {
   "cell_type": "code",
   "execution_count": 2,
   "id": "8a4aa3e7-6392-4a3c-8725-5af8e80b8485",
   "metadata": {},
   "outputs": [],
   "source": [
    "arr = [1, 6, 4, 10, 2, 5]"
   ]
  },
  {
   "cell_type": "code",
   "execution_count": 3,
   "id": "22c9b950-ab99-47fa-b7eb-3cdba6119957",
   "metadata": {},
   "outputs": [],
   "source": [
    "stack = []"
   ]
  },
  {
   "cell_type": "code",
   "execution_count": 13,
   "id": "200bf735-62dc-4c1e-a032-10350d1ef85a",
   "metadata": {},
   "outputs": [],
   "source": [
    "output = [\"_\"] * len(arr)"
   ]
  },
  {
   "cell_type": "code",
   "execution_count": 14,
   "id": "e7ac199a-2a9e-472c-9046-99d3e0d16cc6",
   "metadata": {},
   "outputs": [
    {
     "name": "stdout",
     "output_type": "stream",
     "text": [
      "['_', 1, 1, 4, 1, 2]\n"
     ]
    }
   ],
   "source": [
    "for i in range(len(arr)):\n",
    "    while stack and arr[i] <= stack[-1]:\n",
    "        stack.pop()\n",
    "\n",
    "    if stack:\n",
    "        output[i] = stack[-1]\n",
    "\n",
    "    stack.append(arr[i])\n",
    "    \n",
    "print(output)"
   ]
  },
  {
   "cell_type": "code",
   "execution_count": null,
   "id": "43a35747-8f30-4fb3-93a2-2c16299d930d",
   "metadata": {},
   "outputs": [],
   "source": []
  }
 ],
 "metadata": {
  "kernelspec": {
   "display_name": "Python 3 (ipykernel)",
   "language": "python",
   "name": "python3"
  },
  "language_info": {
   "codemirror_mode": {
    "name": "ipython",
    "version": 3
   },
   "file_extension": ".py",
   "mimetype": "text/x-python",
   "name": "python",
   "nbconvert_exporter": "python",
   "pygments_lexer": "ipython3",
   "version": "3.11.1"
  }
 },
 "nbformat": 4,
 "nbformat_minor": 5
}
