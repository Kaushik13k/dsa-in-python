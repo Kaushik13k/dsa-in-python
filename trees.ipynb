{
 "cells": [
  {
   "cell_type": "code",
   "execution_count": 1,
   "id": "8721c03d-409c-4b15-af9b-4b7517321598",
   "metadata": {},
   "outputs": [],
   "source": [
    "## CREATE TREES USING LIST\n",
    "\n",
    "## LEFT: cell[2x]\n",
    "## RIGHT: cell[2x + 1]"
   ]
  },
  {
   "cell_type": "code",
   "execution_count": 87,
   "id": "e806a40a-597d-4b9c-8d2b-a6930a106772",
   "metadata": {},
   "outputs": [],
   "source": [
    "class BinaryTree:\n",
    "    def __init__(self, size):\n",
    "        self.custom_list = size * [None]\n",
    "        self.last_used_index = 0\n",
    "        self.max_size = size\n",
    "\n",
    "    def insert_node(self, value):\n",
    "        if self.last_used_index + 1== self.max_size:\n",
    "            return \"The tree is full\"\n",
    "        self.custom_list[self.last_used_index + 1] = value\n",
    "        self.last_used_index += 1\n",
    "        return f\"The value {value} is successfully inserted!\"\n",
    "\n",
    "    def search_element(self, value): # The searching uses the LEVEL ORDER TRAVERSAL!\n",
    "        for val in range(len(self.custom_list)):\n",
    "            if self.custom_list[val] == value:\n",
    "                return f\"found the element {value} in postition {val}\"\n",
    "        return \"element not found\"\n",
    "\n",
    "    def pre_order_traversal(self, index):\n",
    "        if index > self.last_used_index:\n",
    "            return\n",
    "        print(self.custom_list[index]) # ROOT\n",
    "        self.pre_order_traversal(index * 2) # LEFT: cell[2x]\n",
    "        self.pre_order_traversal(index * 2 + 1) # RIGHT: cell[2x + 1]"
   ]
  },
  {
   "cell_type": "code",
   "execution_count": 88,
   "id": "f7e8eb54-6445-4914-8449-ae97ed196cbf",
   "metadata": {},
   "outputs": [],
   "source": [
    "tree_instance = BinaryTree(10)"
   ]
  },
  {
   "cell_type": "code",
   "execution_count": 89,
   "id": "9163b2e7-c722-46f1-8647-8c98c9d093c9",
   "metadata": {},
   "outputs": [
    {
     "data": {
      "text/plain": [
       "'The value 8 is successfully inserted!'"
      ]
     },
     "execution_count": 89,
     "metadata": {},
     "output_type": "execute_result"
    }
   ],
   "source": [
    "tree_instance.insert_node(2)\n",
    "tree_instance.insert_node(3)\n",
    "tree_instance.insert_node(4)\n",
    "tree_instance.insert_node(5)\n",
    "tree_instance.insert_node(6)\n",
    "tree_instance.insert_node(7)\n",
    "tree_instance.insert_node(8)"
   ]
  },
  {
   "cell_type": "code",
   "execution_count": 90,
   "id": "7ce27cf1-c55d-4834-941c-ddaee9bf856f",
   "metadata": {},
   "outputs": [
    {
     "data": {
      "text/plain": [
       "[None, 2, 3, 4, 5, 6, 7, 8, None, None]"
      ]
     },
     "execution_count": 90,
     "metadata": {},
     "output_type": "execute_result"
    }
   ],
   "source": [
    "tree_instance.custom_list"
   ]
  },
  {
   "cell_type": "code",
   "execution_count": 91,
   "id": "33946210-7ffd-4578-b20b-6c7862844937",
   "metadata": {},
   "outputs": [
    {
     "data": {
      "text/plain": [
       "'found the element 6 in postition 5'"
      ]
     },
     "execution_count": 91,
     "metadata": {},
     "output_type": "execute_result"
    }
   ],
   "source": [
    "tree_instance.search_element(6)"
   ]
  },
  {
   "cell_type": "code",
   "execution_count": 93,
   "id": "2e7c95ec-311a-4dd1-9922-b2542e3c9f62",
   "metadata": {},
   "outputs": [
    {
     "name": "stdout",
     "output_type": "stream",
     "text": [
      "2\n",
      "3\n",
      "5\n",
      "6\n",
      "4\n",
      "7\n",
      "8\n"
     ]
    }
   ],
   "source": [
    "tree_instance.pre_order_traversal(1)"
   ]
  },
  {
   "cell_type": "code",
   "execution_count": null,
   "id": "3601bc09-ade3-43da-b483-0c45ccaf8f57",
   "metadata": {},
   "outputs": [],
   "source": []
  }
 ],
 "metadata": {
  "kernelspec": {
   "display_name": "Python 3 (ipykernel)",
   "language": "python",
   "name": "python3"
  },
  "language_info": {
   "codemirror_mode": {
    "name": "ipython",
    "version": 3
   },
   "file_extension": ".py",
   "mimetype": "text/x-python",
   "name": "python",
   "nbconvert_exporter": "python",
   "pygments_lexer": "ipython3",
   "version": "3.11.1"
  }
 },
 "nbformat": 4,
 "nbformat_minor": 5
}
